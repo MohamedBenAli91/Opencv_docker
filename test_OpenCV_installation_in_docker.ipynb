{
 "cells": [
  {
   "cell_type": "markdown",
   "id": "elect-junction",
   "metadata": {},
   "source": [
    "Test OpenCV version by Mohamed BEN ALI \n",
    "\n",
    "Computer Vision - Deep Learning"
   ]
  },
  {
   "cell_type": "code",
   "execution_count": 1,
   "id": "interracial-chancellor",
   "metadata": {},
   "outputs": [],
   "source": [
    "import cv2"
   ]
  },
  {
   "cell_type": "code",
   "execution_count": 2,
   "id": "revolutionary-diary",
   "metadata": {},
   "outputs": [
    {
     "name": "stdout",
     "output_type": "stream",
     "text": [
      "4.5.1\r\n"
     ]
    }
   ],
   "source": [
    "!python3 -c \"import cv2; print(cv2.__version__)\""
   ]
  }
 ],
 "metadata": {
  "kernelspec": {
   "display_name": "Python 3",
   "language": "python",
   "name": "python3"
  },
  "language_info": {
   "codemirror_mode": {
    "name": "ipython",
    "version": 3
   },
   "file_extension": ".py",
   "mimetype": "text/x-python",
   "name": "python",
   "nbconvert_exporter": "python",
   "pygments_lexer": "ipython3",
   "version": "3.6.9"
  }
 },
 "nbformat": 4,
 "nbformat_minor": 5
}
